{
 "cells": [
  {
   "cell_type": "code",
   "execution_count": 160,
   "metadata": {},
   "outputs": [
    {
     "name": "stdout",
     "output_type": "stream",
     "text": [
      "\u001b[34mConnecting to --port=/dev/ttyUSB1 --baud=115200 \u001b[0m\n",
      "\u001b[34mReady.\n",
      "\u001b[0m"
     ]
    }
   ],
   "source": [
    "%serialconnect\n"
   ]
  },
  {
   "cell_type": "code",
   "execution_count": 253,
   "metadata": {},
   "outputs": [
    {
     "name": "stdout",
     "output_type": "stream",
     "text": [
      "Sent 43 lines (1708 bytes) to BNO055_funcs.py.\n"
     ]
    }
   ],
   "source": [
    "%sendtofile --source ../../jupyter_micropython_developer_notebooks/Sensor_Kennel/BNO055serial_funcs.py\n",
    "%sendtofile --source ../../jupyter_micropython_developer_notebooks/Sensor_Kennel/BNO055_funcs.py\n",
    "\n"
   ]
  },
  {
   "cell_type": "code",
   "execution_count": 109,
   "metadata": {},
   "outputs": [
    {
     "name": "stdout",
     "output_type": "stream",
     "text": [
      "\u001b[34mConnecting to --port=/dev/ttyUSB0 --baud=115200 \u001b[0m\n",
      "\u001b[34mReady.\n",
      "\u001b[0m"
     ]
    }
   ],
   "source": [
    "%serialconnect\n"
   ]
  },
  {
   "cell_type": "code",
   "execution_count": 310,
   "metadata": {},
   "outputs": [
    {
     "name": "stderr",
     "output_type": "stream",
     "text": [
      "Traceback (most recent call last):\n",
      "  File \"<stdin>\", line 1, in <module>\n",
      "OSError: [Errno 19] ENODEV\n"
     ]
    }
   ],
   "source": [
    "# i2c version (not working)\n",
    "#from machine import I2C, Pin\n",
    "#i2c = I2C(scl=Pin(15, Pin.OUT, P`in.PULL_UP), sda=Pin(4, Pin.OUT, Pin.PULL_UP), freq=450000)\n",
    "#print(i2c.scan())`\n",
    "#print(i2c.readfrom_mem(0x28, 0x00, 6))\n"
   ]
  },
  {
   "cell_type": "code",
   "execution_count": null,
   "metadata": {
    "collapsed": true
   },
   "outputs": [],
   "source": []
  },
  {
   "cell_type": "code",
   "execution_count": null,
   "metadata": {
    "collapsed": true
   },
   "outputs": [],
   "source": []
  },
  {
   "cell_type": "code",
   "execution_count": null,
   "metadata": {
    "collapsed": true
   },
   "outputs": [],
   "source": []
  },
  {
   "cell_type": "code",
   "execution_count": null,
   "metadata": {
    "collapsed": true
   },
   "outputs": [],
   "source": []
  },
  {
   "cell_type": "code",
   "execution_count": 117,
   "metadata": {},
   "outputs": [
    {
     "name": "stdout",
     "output_type": "stream",
     "text": [
      "serial exception on close write failed: [Errno 5] Input/output error\n",
      "\u001b[34mConnecting to --port=/dev/ttyUSB1 --baud=115200 \u001b[0m\n",
      "\u001b[34mReady.\n",
      "\u001b[0m"
     ]
    }
   ],
   "source": [
    "%serialconnect\n",
    "from machine import UART\n",
    "uart = UART(1, baudrate=115200, rx=13, tx=17)\n",
    "uart.read()\n",
    "#  Pin-2 TX (17), Upper side Pin-2 RX (13) \n",
    "#  For BNO055 with PS1=High SCL=TX(17), SDA=RX(13)\n"
   ]
  },
  {
   "cell_type": "code",
   "execution_count": 118,
   "metadata": {},
   "outputs": [
    {
     "name": "stdout",
     "output_type": "stream",
     "text": [
      "b'\\xbb\\x06\\xa0\\xfb2\\x0f\\x08\\x03'\r\n"
     ]
    }
   ],
   "source": [
    "uart.write(b\"\\xAA\\x01\\x00\\x06\")  # request chip_id and firmware version\n",
    "time.sleep_ms(20)\n",
    "r = uart.read()\n",
    "print(r)\n"
   ]
  },
  {
   "cell_type": "code",
   "execution_count": 119,
   "metadata": {},
   "outputs": [
    {
     "name": "stdout",
     "output_type": "stream",
     "text": [
      "None\r\n"
     ]
    }
   ],
   "source": [
    "from BNO055serial_funcs import InitBNO055\n",
    "r = uart.read()\n",
    "print(r)\n"
   ]
  },
  {
   "cell_type": "code",
   "execution_count": 120,
   "metadata": {
    "collapsed": true
   },
   "outputs": [],
   "source": [
    "import ustruct\n",
    "def InitBNO055():\n",
    "    bno055write1(0x3D, 0x00)   # PWR_MODE\n",
    "    bno055write1(0x3B, 0x00)   # UNIT_SEL, celsius, UDegrees and m/s^2\n",
    "    bno055write1(0x3D, 0x0C)   # back to NDOF mode\n",
    "    print(\"Temperature\", bno055read(0x34, 1)[0])\n",
    "\n",
    "def bno055write1(reg, val):\n",
    "    uart.write(bytes((0xAA, 0x00, reg, 1, val)))\n",
    "    time.sleep_ms(20)\n",
    "    v = uart.read()\n",
    "    if v != b'\\xee\\x01':\n",
    "        raise Exception(\"bad bno055write %s\" % str(v))\n",
    "\n",
    "def bno055read(reg, n):\n",
    "    uart.write(b\"\\xAA\\x01\")\n",
    "    uart.write(chr(reg))\n",
    "    uart.write(chr(n))\n",
    "    time.sleep_ms(20)\n",
    "    r = uart.read()\n",
    "    if not ((r[0] == 0xBB) and (r[1] == n) and (len(r) == n + 2)):\n",
    "        raise Exception(\"bad bno055read %s\" % str(r))\n",
    "    return r[2:]\n",
    "\n"
   ]
  },
  {
   "cell_type": "code",
   "execution_count": 121,
   "metadata": {},
   "outputs": [
    {
     "name": "stdout",
     "output_type": "stream",
     "text": [
      "Temperature 27\r\n"
     ]
    }
   ],
   "source": [
    "InitBNO055()"
   ]
  },
  {
   "cell_type": "code",
   "execution_count": 102,
   "metadata": {},
   "outputs": [
    {
     "name": "stderr",
     "output_type": "stream",
     "text": [
      "Traceback (most recent call last):\n",
      "  File \"<stdin>\", line 1, in <module>\n",
      "NameError: name 'BNO055absorientation' is not defined\n"
     ]
    }
   ],
   "source": [
    "print(BNO055absorientation())"
   ]
  },
  {
   "cell_type": "code",
   "execution_count": 126,
   "metadata": {},
   "outputs": [
    {
     "name": "stdout",
     "output_type": "stream",
     "text": [
      "countdown 3\n",
      "countdown 2\n",
      "countdown 1\n",
      "countdown 0\n",
      "b'\\xee\\x07'\n",
      "b'\\xee\\x07'\n",
      "b'\\xee\\x07'\n",
      "b'\\xee\\x07'\n",
      "2.06 10.3\n"
     ]
    }
   ],
   "source": [
    "import array \n",
    "n = 200\n",
    "a = None\n",
    "a = array.array(\"h\", range(n))\n",
    "for i in range(3, -1, -1):\n",
    "    time.sleep(1.0)\n",
    "    print(\"countdown\", i)\n",
    "t0 = time.ticks_ms()\n",
    "for i in range(n):\n",
    "    uart.write(b\"\\xAA\\x01\\x28\\x02\")\n",
    "    time.sleep_ms(10)\n",
    "    r = uart.read()\n",
    "    if r and (r[0] == 0xBB) and (r[1] == 2) and (len(r) == 4):\n",
    "        a[i] = (r[2]+r[3]*256)\n",
    "    else:\n",
    "        a[i] = 32768\n",
    "        print(r)\n",
    "tdur = time.ticks_ms() - t0\n",
    "print(tdur/1000, tdur/n)"
   ]
  },
  {
   "cell_type": "code",
   "execution_count": 127,
   "metadata": {},
   "outputs": [
    {
     "name": "stdout",
     "output_type": "stream",
     "text": [
      "b'\\xbb\\x02\\n\\x00'\r\n"
     ]
    }
   ],
   "source": [
    "print(r)"
   ]
  },
  {
   "cell_type": "code",
   "execution_count": 128,
   "metadata": {},
   "outputs": [
    {
     "name": "stdout",
     "output_type": "stream",
     "text": [
      "array('h', [3, 4, 7, 10, 12, 12, 4, 9, 11, 9, 8, 8, 9, 6, 2, 0, -4, -4, -2, 1, 0, -1, -1, 3, 0, -1, -2, 0, -1, -1, -4, 0, 5, -32768, 9, 13, 13, 8, 2, 7, 13, 10, 11, 12, 15, 9, 6, 10, 10, 4, 6, 9, 5, 1, -1, 0, 5, 8, 7, 5, 7, 6, 0, 0, 4, 1, 1, 0, -2, -32768, -2, 0, 6, 8, 5, 1, 2, -1, 0, -1, -5, -11, -17, -35, -49, -67, -112, -257, -324, -374, -410, -490, -535, -601, -646, -715, -756, -786, -777, -699, -684, -657, -589, -438, -282, -32768, -103, -35, 35, 111, 252, 303, 378, 432, 488, 530, 529, 525, 522, 477, 467, 465, 460, 521, 560, 598, 596, 604, 595, 599, 610, 627, 639, 625, 617, 592, 582, 566, 548, 529, 525, 526, 512, 498, 468, 427, 374, 366, 359, 346, 328, 264, 226, 198, 170, 108, 68, 38, 25, -33, -64, -111, -165, -278, -323, -354, -361, -341, -339, -332, -334, -421, -461, -489, -497, -463, -440, -418, -371, -32768, -336, -315, -306, -308, -312, -294, -281, -256, -257, -242, -205, -148, -99, -50, -22, -44, -36, -14, 3, 10])\r\n"
     ]
    }
   ],
   "source": [
    "print(a)"
   ]
  },
  {
   "cell_type": "code",
   "execution_count": 82,
   "metadata": {},
   "outputs": [
    {
     "name": "stdout",
     "output_type": "stream",
     "text": [
      "11\r\n"
     ]
    }
   ],
   "source": [
    "uart.write(b\"\\xAA\\x01\\x28\\x02\")\n",
    "time.sleep_ms(10)\n",
    "r = uart.read()\n",
    "if r and (r[0] == 0xBB) and (r[1] == 2) and (len(r) == 4):\n",
    "    print(r[2]+r[3]*256)"
   ]
  },
  {
   "cell_type": "code",
   "execution_count": 88,
   "metadata": {},
   "outputs": [
    {
     "name": "stdout",
     "output_type": "stream",
     "text": [
      "sys: 3 gyr: 3 acc: 1 mag: 3\n",
      "sys: 2 gyr: 3 acc: 1 mag: 3\n",
      "sys: 2 gyr: 3 acc: 3 mag: 3\n",
      "sys: 3 gyr: 3 acc: 3 mag: 3\n",
      ".sys: 2 gyr: 3 acc: 3 mag: 3\n",
      "sys: 3 gyr: 3 acc: 3 mag: 3\n",
      ".\u001b[34m\n",
      "\n",
      "*** Sending Ctrl-C\n",
      "\n",
      "\u001b[0m"
     ]
    },
    {
     "name": "stderr",
     "output_type": "stream",
     "text": [
      "Traceback (most recent call last):\n",
      "  File \"<stdin>\", line 5, in <module>\n",
      "KeyboardInterrupt: \n"
     ]
    }
   ],
   "source": [
    "import time\n",
    "calibstat = 0\n",
    "for i in range(10000):\n",
    "    uart.write(b\"\\xAA\\x01\\x35\\x01\")\n",
    "    time.sleep_ms(20)\n",
    "    r = uart.read()\n",
    "    if r and r[0] == 0xBB and r[1] == 1 and len(r) == 3:\n",
    "        lcalibstat = r[2]\n",
    "    if lcalibstat != calibstat:\n",
    "        calibstat = lcalibstat`\n",
    "        print(\"sys:\", (calibstat>>6)&0x03, \"gyr:\", (calibstat>>4)&0x03, \"acc:\", (calibstat>>2)&0x03, \"mag:\", calibstat&0x03)\n"
   ]
  },
  {
   "cell_type": "code",
   "execution_count": 87,
   "metadata": {},
   "outputs": [
    {
     "name": "stdout",
     "output_type": "stream",
     "text": [
      "0b11110111\r\n"
     ]
    }
   ],
   "source": [
    "print(bin(calibstat))"
   ]
  },
  {
   "cell_type": "code",
   "execution_count": null,
   "metadata": {
    "collapsed": true
   },
   "outputs": [],
   "source": []
  }
 ],
 "metadata": {
  "kernelspec": {
   "display_name": "MicroPython - USB",
   "language": "micropython",
   "name": "micropython"
  },
  "language_info": {
   "codemirror_mode": "python",
   "file_extension": ".py",
   "mimetype": "text/python",
   "name": "micropython"
  }
 },
 "nbformat": 4,
 "nbformat_minor": 2
}
