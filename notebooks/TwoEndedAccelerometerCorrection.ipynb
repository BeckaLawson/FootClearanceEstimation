{
 "cells": [
  {
   "cell_type": "code",
   "execution_count": null,
   "metadata": {
    "collapsed": true
   },
   "outputs": [],
   "source": [
    "# We run the simulation with just a 4 acceleration readings\n",
    "# with added gaussian noise"
   ]
  },
  {
   "cell_type": "code",
   "execution_count": 151,
   "metadata": {},
   "outputs": [
    {
     "data": {
      "text/plain": [
       "array([5, 5, 0, 0])"
      ]
     },
     "execution_count": 151,
     "metadata": {},
     "output_type": "execute_result"
    }
   ],
   "source": [
    "import numpy\n",
    "a = 5\n",
    "dt = 1\n",
    "accs = numpy.array([a, -a, -a, a])\n",
    "vels = numpy.cumsum(accs)*dt\n",
    "posx = numpy.cumsum(vels)*dt\n",
    "posx\n",
    "posx"
   ]
  },
  {
   "cell_type": "code",
   "execution_count": 199,
   "metadata": {},
   "outputs": [
    {
     "name": "stdout",
     "output_type": "stream",
     "text": [
      "miderror 5.0002555098 0.111794119402 2.23588238805\n",
      "enderror 0.000565171061706 0.273239613552 5.46479227104\n"
     ]
    }
   ],
   "source": [
    "# No correction\n",
    "noisesstd = 0.05\n",
    "posxend = [ ]\n",
    "posxmid = [ ]\n",
    "accs = numpy.array([a, -a, -a, a])\n",
    "for i in range(100000):\n",
    "    saccs = accs + numpy.random.normal(0, noisesstd, len(accs))\n",
    "    vels = numpy.cumsum(saccs)*dt\n",
    "    posx = numpy.cumsum(vels)*dt\n",
    "    posxmid.append(posx[1])\n",
    "    posxend.append(posx[-1])\n",
    "posxend = numpy.array(posxend)\n",
    "posxmid = numpy.array(posxmid)\n",
    "\n",
    "print(\"miderror\", posxmid.mean(), posxmid.std(), posxmid.std()/noisesstd)\n",
    "print(\"enderror\", posxend.mean(), posxend.std(), posxend.std()/noisesstd)\n"
   ]
  },
  {
   "cell_type": "code",
   "execution_count": 180,
   "metadata": {},
   "outputs": [
    {
     "data": {
      "text/plain": [
       "array([ 5.01568641,  0.09989968, -4.99016441,  0.        ])"
      ]
     },
     "execution_count": 180,
     "metadata": {},
     "output_type": "execute_result"
    }
   ],
   "source": [
    "vels - numpy.arange(len(vels))/(len(vels)-1)*vels[-1]"
   ]
  },
  {
   "cell_type": "code",
   "execution_count": 192,
   "metadata": {},
   "outputs": [
    {
     "name": "stdout",
     "output_type": "stream",
     "text": [
      "miderror 4.99917385362 0.0924371638143\n",
      "enderror -0.00112538062408 0.122054302229\n"
     ]
    }
   ],
   "source": [
    "# Correct for velocity drift\n",
    "noisesstd = 0.05\n",
    "posxend = [ ]\n",
    "posxmid = [ ]\n",
    "accs = numpy.array([a, -a, -a, a])\n",
    "for i in range(100000):\n",
    "    saccs = accs + numpy.random.normal(0, noisesstd, len(accs))\n",
    "    vels = numpy.cumsum(saccs)*dt\n",
    "    # correction of velocity to zero\n",
    "    vels = vels - numpy.arange(len(vels))/(len(vels)-1)*vels[-1]\n",
    "    posx = numpy.cumsum(vels)*dt\n",
    "    posxmid.append(posx[1])\n",
    "    posxend.append(posx[-1])\n",
    "posxend = numpy.array(posxend)\n",
    "posxmid = numpy.array(posxmid)\n",
    "\n",
    "print(\"miderror\", posxmid.mean(), posxmid.std())\n",
    "print(\"enderror\", posxend.mean(), posxend.std())\n"
   ]
  },
  {
   "cell_type": "code",
   "execution_count": 194,
   "metadata": {},
   "outputs": [
    {
     "name": "stdout",
     "output_type": "stream",
     "text": [
      "endpoint error reduction factor 0.4471198061973274\n",
      "endpoint error reduction factor 0.8290744276108765\n"
     ]
    }
   ],
   "source": [
    "print(\"endpoint error reduction factor\", 0.122054302229/0.272978965676)\n",
    "print(\"endpoint error reduction factor\", 0.0924371638143/0.111494409592)"
   ]
  },
  {
   "cell_type": "code",
   "execution_count": 202,
   "metadata": {},
   "outputs": [
    {
     "name": "stdout",
     "output_type": "stream",
     "text": [
      "miderror 4.99992555247 0.0553238572766\n",
      "enderror 0.0 0.0\n"
     ]
    }
   ],
   "source": [
    "# Correct for velocity drift and endpoint return\n",
    "noisesstd = 0.05\n",
    "posxend = [ ]\n",
    "posxmid = [ ]\n",
    "accs = numpy.array([a, -a, -a, a])\n",
    "for i in range(100000):\n",
    "    saccs = accs + numpy.random.normal(0, noisesstd, len(accs))\n",
    "    vels = numpy.cumsum(saccs)*dt\n",
    "    # correction of velocity to zero\n",
    "    vels = vels - numpy.arange(len(vels))/(len(vels)-1)*vels[-1]\n",
    "    posx = numpy.cumsum(vels)*dt\n",
    "    # endpoint return\n",
    "    posx = posx - numpy.arange(len(posx))/(len(posx)-1)*posx[-1]\n",
    "    posxmid.append(posx[1])\n",
    "    posxend.append(posx[-1])\n",
    "posxend = numpy.array(posxend)\n",
    "posxmid = numpy.array(posxmid)\n",
    "\n",
    "print(\"miderror\", posxmid.mean(), posxmid.std())\n",
    "print(\"enderror\", posxend.mean(), posxend.std())\n"
   ]
  },
  {
   "cell_type": "code",
   "execution_count": null,
   "metadata": {
    "collapsed": true
   },
   "outputs": [],
   "source": []
  }
 ],
 "metadata": {
  "kernelspec": {
   "display_name": "Python 3",
   "language": "python",
   "name": "python3"
  },
  "language_info": {
   "codemirror_mode": {
    "name": "ipython",
    "version": 3
   },
   "file_extension": ".py",
   "mimetype": "text/x-python",
   "name": "python",
   "nbconvert_exporter": "python",
   "pygments_lexer": "ipython3",
   "version": "3.6.1"
  }
 },
 "nbformat": 4,
 "nbformat_minor": 2
}
